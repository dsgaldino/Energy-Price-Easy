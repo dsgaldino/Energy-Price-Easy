{
 "cells": [
  {
   "cell_type": "code",
   "execution_count": 9,
   "id": "e4eacaa0",
   "metadata": {},
   "outputs": [],
   "source": [
    "import requests\n",
    "import pandas as pd\n",
    "import csv\n",
    "from datetime import timedelta, datetime"
   ]
  },
  {
   "cell_type": "code",
   "execution_count": 10,
   "id": "9cdcbdbc",
   "metadata": {},
   "outputs": [],
   "source": [
    "# Creating the DataFrame with the original information\n",
    "df = pd.read_csv('EasyEnergyPrice.csv')"
   ]
  },
  {
   "cell_type": "code",
   "execution_count": 11,
   "id": "8912b6eb",
   "metadata": {},
   "outputs": [
    {
     "name": "stdout",
     "output_type": "stream",
     "text": [
      "Earliest date found in the dataset: 2017-01-01\n",
      "Latest date found in the dataset: 2023-05-01\n",
      "Today's date: 2023-05-02\n"
     ]
    }
   ],
   "source": [
    "# The earliest date in the dataset\n",
    "min_date = pd.to_datetime(df['Date'].min(), format='%Y-%m-%d').date()\n",
    "\n",
    "# The latest date in dataset\n",
    "max_date = pd.to_datetime(df['Date'].max(), format='%Y-%m-%d').date()\n",
    "\n",
    "# Today date\n",
    "today = datetime.today().date()\n",
    "\n",
    "print('Earliest date found in the dataset:', min_date)\n",
    "print('Latest date found in the dataset:', max_date)\n",
    "print('Today\\'s date:', today)"
   ]
  },
  {
   "cell_type": "code",
   "execution_count": 12,
   "id": "3984ba58",
   "metadata": {
    "scrolled": true
   },
   "outputs": [
    {
     "name": "stdout",
     "output_type": "stream",
     "text": [
      "The difference between the latest date and today is: 1 days\n"
     ]
    }
   ],
   "source": [
    "# Days difference\n",
    "dif_days = (today - max_date).days\n",
    "\n",
    "# Check if the dataset is updated\n",
    "if dif_days != 0:\n",
    "    print('The difference between the latest date and today is:', dif_days, 'days')\n",
    "else:\n",
    "    print('The dataset is updated!')"
   ]
  },
  {
   "cell_type": "code",
   "execution_count": 13,
   "id": "a08101b6",
   "metadata": {},
   "outputs": [],
   "source": [
    "start_url = 'https://mijn.easyenergy.com/nl/api/tariff/getapxtariffs?startTimestamp='\n",
    "middle_url = 'T00%3A00%3A00.000Z&endTimestamp='\n",
    "end_url = 'T23%3A00%3A00.000Z&grouping=%22'"
   ]
  },
  {
   "cell_type": "code",
   "execution_count": 14,
   "id": "77802d03",
   "metadata": {},
   "outputs": [],
   "source": [
    "# Create a temporary DataFrame to store the daily price \n",
    "df_comb = pd.DataFrame() # Temporary DataFrame combine the prices with the original\n",
    "df_tempE = pd.DataFrame() # Temporary DataFrame for prices (earlist dates)\n",
    "df_tempL = pd.DataFrame() # Temporary DataFrame for prices (lastest dates)\n",
    "\n",
    "# Updating the dataset with lastest dates\n",
    "if dif_days != 0:\n",
    "    # Adjusting dates    \n",
    "    max_date = max_date + timedelta(days=1)\n",
    "    today = today - timedelta(days=1)\n",
    "    \n",
    "    # Convert date to string \n",
    "    max_date_str = max_date.strftime('%Y-%m-%d')\n",
    "    today_str = today.strftime('%Y-%m-%d')\n",
    "    \n",
    "    #Creating the URL\n",
    "    url = f'{start_url}{max_date_str.replace(\"/\", \"-\")}{middle_url}{today_str.replace(\"/\", \"-\")}{end_url}'\n",
    "   \n",
    "    # Copy the information from the URL into a temporary DataFrame\n",
    "    response = requests.get(url)\n",
    "    data = response.json()\n",
    "    df_tempL = pd.DataFrame(data)\n",
    "    \n",
    "    # Append the information from the temporary DataFrame to the combined DataFrame\n",
    "    df_comb = pd.concat([df_comb, df_tempL], ignore_index=True)\n",
    "    \n",
    "# Updating the dataset with earlist dates\n",
    "\n",
    "# Adjusting dates\n",
    "min_date = min_date - timedelta(days=1)\n",
    "early_year = str(min_date.year)\n",
    "early_date = early_year + '-01-01'\n",
    "early_date_obj = datetime.strptime(early_date, '%Y-%m-%d')\n",
    "    \n",
    "# Convert date to string \n",
    "min_date_str = min_date.strftime('%Y-%m-%d')\n",
    "early_date_str = early_date_obj.strftime('%Y-%m-%d')\n",
    "\n",
    "#Creating the URL\n",
    "url = f'{start_url}{early_date_str.replace(\"/\", \"-\")}{middle_url}{min_date_str.replace(\"/\", \"-\")}{end_url}'\n",
    "\n",
    "# Copy the information from the URL into a temporary DataFrame\n",
    "response = requests.get(url)\n",
    "data = response.json()\n",
    "df_tempE = pd.DataFrame(data)\n",
    "\n",
    "# Append the information from the temporary DataFrame to the combined DataFrame\n",
    "df_comb = pd.concat([df_comb, df_tempE], ignore_index=True)\n"
   ]
  },
  {
   "cell_type": "code",
   "execution_count": 15,
   "id": "9e601a44",
   "metadata": {},
   "outputs": [],
   "source": [
    "# split Timestamp column into Date and Hour columns\n",
    "df_comb[['Date', 'Hour']] = df_comb['Timestamp'].str.split('T', expand=True)\n",
    "df_comb['Hour'] = df_comb['Hour'].str.slice(stop=5)\n",
    "\n",
    "# drop Timestamp column\n",
    "df_comb.drop('Timestamp', axis=1, inplace=True)\n",
    "df_comb.drop('SupplierId', axis=1, inplace=True)\n",
    "\n",
    "# rename TariffUsage and TariffReturn columns\n",
    "df_comb = df_comb.rename(columns={\n",
    "    'TariffUsage': 'Import Grid (EUR/kWh)',\n",
    "    'TariffReturn': 'Export Grid (EUR/kWh)'\n",
    "})\n",
    "\n",
    "# Append the information from the temporary DataFrame to the original\n",
    "df = pd.concat([df, df_comb], ignore_index=True)"
   ]
  },
  {
   "cell_type": "code",
   "execution_count": 16,
   "id": "42b9e7d2",
   "metadata": {},
   "outputs": [],
   "source": [
    "df.to_csv('EasyEnergyPrice.csv', index=False)"
   ]
  }
 ],
 "metadata": {
  "kernelspec": {
   "display_name": "Python 3 (ipykernel)",
   "language": "python",
   "name": "python3"
  },
  "language_info": {
   "codemirror_mode": {
    "name": "ipython",
    "version": 3
   },
   "file_extension": ".py",
   "mimetype": "text/x-python",
   "name": "python",
   "nbconvert_exporter": "python",
   "pygments_lexer": "ipython3",
   "version": "3.10.9"
  }
 },
 "nbformat": 4,
 "nbformat_minor": 5
}
