{
 "cells": [
  {
   "cell_type": "markdown",
   "id": "9e49166a",
   "metadata": {},
   "source": [
    "# Energy Price\n",
    "\n",
    "TThe code aims to update the 'EasyEnergyPrice.csv' CSV file with the latest daily energy prices. It makes requests to an API to retrieve price data, processes the data, and adds it to the existing CSV file. The code checks if the dataset is up to date, retrieves the most recent and/or earliest data, performs data cleaning and formatting operations, and finally saves the updated DataFrame to the CSV file. This ensures that the file contains the latest daily energy prices, including any updates for previous dates."
   ]
  },
  {
   "cell_type": "markdown",
   "id": "04e9fe8a",
   "metadata": {},
   "source": [
    "#### Import Libraries"
   ]
  },
  {
   "cell_type": "code",
   "execution_count": 1,
   "id": "cbad9545",
   "metadata": {},
   "outputs": [],
   "source": [
    "import requests\n",
    "import pandas as pd\n",
    "from datetime import timedelta, datetime\n",
    "import time\n",
    "import sys"
   ]
  },
  {
   "cell_type": "markdown",
   "id": "06348302",
   "metadata": {},
   "source": [
    "#### Define the URL"
   ]
  },
  {
   "cell_type": "code",
   "execution_count": 2,
   "id": "f119dcc2",
   "metadata": {},
   "outputs": [],
   "source": [
    "# URL components for the API\n",
    "start_url = 'https://mijn.easyenergy.com/nl/api/tariff/getapxtariffs?startTimestamp='\n",
    "middle_url = 'T00%3A00%3A00.000Z&endTimestamp='\n",
    "end_url = 'T23%3A00%3A00.000Z&grouping=%22'"
   ]
  },
  {
   "cell_type": "markdown",
   "id": "9f515f5e",
   "metadata": {},
   "source": [
    "#### Functions"
   ]
  },
  {
   "cell_type": "code",
   "execution_count": null,
   "id": "0ab87f10",
   "metadata": {},
   "outputs": [],
   "source": [
    "# Get the minimum and maximum dates from the DataFrame\n",
    "def get_min_max_dates(df):\n",
    "    min_date = pd.to_datetime(df['Date'].min(), format='%Y-%m-%d').date()\n",
    "    max_date = pd.to_datetime(df['Date'].max(), format='%Y-%m-%d').date()\n",
    "    return min_date, max_date"
   ]
  },
  {
   "cell_type": "code",
   "execution_count": null,
   "id": "907cba26",
   "metadata": {},
   "outputs": [],
   "source": [
    "# Fetch data from the API based on the start and end dates\n",
    "def get_data_from_api(start_date, end_date):\n",
    "    url = f'{start_url}{start_date.replace(\"/\", \"-\")}{middle_url}{end_date.replace(\"/\", \"-\")}{end_url}'\n",
    "    response = requests.get(url)\n",
    "    data = response.json()\n",
    "    return pd.DataFrame(data)"
   ]
  },
  {
   "cell_type": "code",
   "execution_count": null,
   "id": "cfd74af0",
   "metadata": {},
   "outputs": [],
   "source": [
    "# Adjust the given date by subtracting one day\n",
    "def adjust_dates(date):\n",
    "    date = date - timedelta(days=1)\n",
    "    date_str = date.strftime('%Y-%m-%d')\n",
    "    return date, date_str"
   ]
  },
  {
   "cell_type": "code",
   "execution_count": null,
   "id": "83c581ef",
   "metadata": {},
   "outputs": [],
   "source": [
    "def check_missing_dates(df):\n",
    "    min_date, max_date = get_min_max_dates(df)\n",
    "    # Create a complete date range from the minimum to the maximum date\n",
    "    complete_dates = pd.date_range(start=min_date, end=max_date)\n",
    "    # Find the missing dates by comparing the complete range with the dates in the DataFrame\n",
    "    missing_dates = set(complete_dates) - set(df['Date'])\n",
    "    formatted_missing_dates = [date.strftime('%Y-%m-%d') for date in missing_dates]\n",
    "\n",
    "    missing_dates_by_year = {}\n",
    "    for missing_date in missing_dates:\n",
    "        year = missing_date.year\n",
    "        if year not in missing_dates_by_year:\n",
    "            missing_dates_by_year[year] = []\n",
    "        missing_dates_by_year[year].append(missing_date.strftime('%Y-%m-%d'))\n",
    "\n",
    "    return formatted_missing_dates, missing_dates_by_year"
   ]
  },
  {
   "cell_type": "markdown",
   "id": "1f9075d3",
   "metadata": {},
   "source": [
    "#### Read the CSV file"
   ]
  },
  {
   "cell_type": "code",
   "execution_count": 3,
   "id": "bae72004",
   "metadata": {},
   "outputs": [],
   "source": [
    "# Read the original dataset\n",
    "df = pd.read_csv('EasyEnergyPrice.csv')"
   ]
  },
  {
   "cell_type": "markdown",
   "id": "67119df6",
   "metadata": {},
   "source": [
    "#### Check the dates"
   ]
  },
  {
   "cell_type": "code",
   "execution_count": null,
   "id": "805b0396",
   "metadata": {},
   "outputs": [],
   "source": [
    "# Get the minimum and maximum dates from the DataFrame\n",
    "min_date, max_date = get_min_max_dates(df)\n",
    "# Get today's date\n",
    "today = datetime.today().date()\n",
    "\n",
    "# Print the date information\n",
    "print('Earliest date found in the dataset:', min_date)\n",
    "print('Latest date found in the dataset:', max_date)\n",
    "print('Today\\'s date:', today)\n",
    "print('\\n')\n",
    "\n",
    "# Calculate the difference in days between the latest date and today\n",
    "dif_days = (today - max_date).days"
   ]
  },
  {
   "cell_type": "markdown",
   "id": "bc920c99",
   "metadata": {},
   "source": [
    "#### Get and cleaning the data"
   ]
  },
  {
   "cell_type": "code",
   "execution_count": 5,
   "id": "1b887983",
   "metadata": {},
   "outputs": [],
   "source": [
    "if dif_days != 0:\n",
    "    # If the difference is not zero, fetch data from the API for the missing dates\n",
    "    print('The difference between the latest date and today is:', dif_days, 'days')\n",
    "    print('\\n')\n",
    "    # Adjust the dates by subtracting one day\n",
    "    max_date, max_date_str = adjust_dates(max_date)\n",
    "    today, today_str = adjust_dates(today)\n",
    "    # Fetch data from the API\n",
    "    df_comb = get_data_from_api(max_date_str, today_str)\n",
    "elif min_date >= pd.to_datetime(\"2012-01-01\").date():\n",
    "    # If the difference is zero and the minimum date is after January 1, 2012,\n",
    "    # fetch data from the API for the early dates\n",
    "    min_date, min_date_str = adjust_dates(min_date)\n",
    "    early_date_obj = datetime.strptime(str(min_date), '%Y-%m-%d')\n",
    "    # Fetch data from the API\n",
    "    df_comb = pd.concat([df_comb, get_data_from_api(early_date_str, min_date_str)], ignore_index=True)\n",
    "else:\n",
    "    # If none of the above conditions are met, the dataset is already updated\n",
    "    print('The dataset is updated!')\n",
    "    print('\\n')\n",
    "    df_comb = pd.DataFrame()\n",
    "\n",
    "if not df_comb.empty:\n",
    "    # Process the combined DataFrame if it is not empty\n",
    "    df_comb[['Date', 'Hour']] = df_comb['Timestamp'].str.split('T', expand=True)\n",
    "    df_comb['Hour'] = df_comb['Hour'].str.slice(stop=5)\n",
    "    df_comb.drop(['Timestamp', 'SupplierId'], axis=1, inplace=True)\n",
    "    # Rename the columns for clarity\n",
    "    df_comb = df_comb.rename(columns={\n",
    "        'TariffUsage': 'Import Grid (EUR/kWh)',\n",
    "        'TariffReturn': 'Export Grid (EUR/kWh)'\n",
    "    })\n",
    "\n",
    "# Concatenate the original DataFrame and the combined DataFrame\n",
    "df = pd.concat([df, df_comb], ignore_index=True)"
   ]
  },
  {
   "cell_type": "markdown",
   "id": "ae55a6e4",
   "metadata": {},
   "source": [
    "#### Handling Missing Dates in the Dataset"
   ]
  },
  {
   "cell_type": "code",
   "execution_count": null,
   "id": "bb08553e",
   "metadata": {},
   "outputs": [],
   "source": [
    "# Get the updated minimum and maximum dates from the merged DataFrame\n",
    "min_date, max_date = get_min_max_dates(df)\n",
    "\n",
    "# Check for missing dates in the DataFrame\n",
    "missing_dates, missing_dates_by_year = check_missing_dates(df)\n",
    "\n",
    "# Fill any remaining missing values with NaT (Not-a-Time)\n",
    "df.fillna(value=pd.NaT, inplace=True)\n",
    "# Remove duplicate rows from the DataFrame\n",
    "df.drop_duplicates(inplace=True)"
   ]
  },
  {
   "cell_type": "markdown",
   "id": "70711a42",
   "metadata": {},
   "source": [
    "#### Save the data"
   ]
  },
  {
   "cell_type": "code",
   "execution_count": null,
   "id": "787951b4",
   "metadata": {},
   "outputs": [],
   "source": [
    "# Save the updated DataFrame to a CSV file\n",
    "df.to_csv('EasyEnergyPrice.csv', index=False)"
   ]
  },
  {
   "cell_type": "code",
   "execution_count": null,
   "id": "76aeaa6e",
   "metadata": {},
   "outputs": [],
   "source": [
    "# Print the success message\n",
    "print('DATA UPDATED SUCCESSFULLY!')\n",
    "\n",
    "# Pause for 10 seconds\n",
    "time.sleep(10)\n",
    "\n",
    "# Close the program\n",
    "sys.exit()"
   ]
  }
 ],
 "metadata": {
  "kernelspec": {
   "display_name": "Python 3 (ipykernel)",
   "language": "python",
   "name": "python3"
  },
  "language_info": {
   "codemirror_mode": {
    "name": "ipython",
    "version": 3
   },
   "file_extension": ".py",
   "mimetype": "text/x-python",
   "name": "python",
   "nbconvert_exporter": "python",
   "pygments_lexer": "ipython3",
   "version": "3.10.9"
  }
 },
 "nbformat": 4,
 "nbformat_minor": 5
}
